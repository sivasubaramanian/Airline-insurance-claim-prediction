{
 "cells": [
  {
   "cell_type": "code",
   "execution_count": 8,
   "id": "0245f804",
   "metadata": {},
   "outputs": [],
   "source": [
    "import time\n",
    "import pandas as pd\n",
    "\n",
    "from sklearn.ensemble import BaggingClassifier\n",
    "from sklearn.model_selection import train_test_split\n",
    "from sklearn.tree import DecisionTreeClassifier, export_graphviz\n",
    "import sklearn.metrics\n",
    "from sklearn import tree\n",
    "from sklearn.metrics import accuracy_score\n",
    "\n",
    "start_time = time.time()\n",
    "import pandas as pd\n",
    "from sklearn import svm\n",
    "from sklearn.model_selection import train_test_split\n",
    "from sklearn.metrics import accuracy_score\n",
    "import sklearn.metrics\n",
    "import numpy as np"
   ]
  },
  {
   "cell_type": "code",
   "execution_count": 10,
   "id": "116ff074",
   "metadata": {},
   "outputs": [],
   "source": [
    "datas = pd.read_csv(open(\"C:\\\\Users\\\\sivai\\\\OneDrive\\\\Desktop\\\\insurdata.csv\"))"
   ]
  },
  {
   "cell_type": "code",
   "execution_count": 11,
   "id": "eb53639f",
   "metadata": {},
   "outputs": [],
   "source": [
    "datas['Agency_Code'] = datas['Agency_Code'].map({'C2B': 0, 'EPX': 1,'CWT':2,'JZI':3})\n",
    "datas['Type'] = datas['Type'].map({'Airlines': 0, 'Travel Agency': 1})\n",
    "datas['Product Name'] = datas['Product Name'].map({'Customised Plan': 0, 'Cancellation Plan': 1,'Bronze Plan':2,'Silver Plan':3,'Gold Plan':4})\n",
    "datas['Claimed'] = datas['Claimed'].map({'Yes': 0, 'No': 1})\n",
    "datas['Channel'] = datas['Channel'].map({'Online': 0, 'Offline': 1})\n",
    "datas['Destination'] = datas['Destination'].map({'ASIA': 0, 'EUROPE': 1,'Americas':2})"
   ]
  },
  {
   "cell_type": "code",
   "execution_count": 12,
   "id": "4dcbbc79",
   "metadata": {},
   "outputs": [],
   "source": [
    "predictors = datas.values[:, 0:9]\n",
    "targets = datas.values[:,9]\n",
    "\n",
    "pred_train, pred_test, tar_train, tar_test = train_test_split(predictors, targets, test_size= 0.25)"
   ]
  },
  {
   "cell_type": "code",
   "execution_count": 13,
   "id": "1ce1055a",
   "metadata": {},
   "outputs": [
    {
     "name": "stdout",
     "output_type": "stream",
     "text": [
      "(2250, 9)\n",
      "(750, 9)\n",
      "(2250,)\n",
      "(750,)\n"
     ]
    }
   ],
   "source": [
    "print(pred_train.shape)\n",
    "print(pred_test.shape)\n",
    "print(tar_train.shape)\n",
    "print(tar_test.shape)"
   ]
  },
  {
   "cell_type": "code",
   "execution_count": 14,
   "id": "20fb944c",
   "metadata": {},
   "outputs": [
    {
     "data": {
      "text/plain": [
       "['Age',\n",
       " 'Agency_Code',\n",
       " 'Type',\n",
       " 'Claimed',\n",
       " 'Commision',\n",
       " 'Channel',\n",
       " 'Duration',\n",
       " 'Sales',\n",
       " 'Product Name',\n",
       " 'Destination']"
      ]
     },
     "execution_count": 14,
     "metadata": {},
     "output_type": "execute_result"
    }
   ],
   "source": [
    "features = list(datas.columns[:10])\n",
    "features"
   ]
  },
  {
   "cell_type": "code",
   "execution_count": 15,
   "id": "32f2b906",
   "metadata": {},
   "outputs": [],
   "source": [
    "classifier = DecisionTreeClassifier(criterion = \"entropy\", random_state = 1, splitter='best')\n",
    "classifier = classifier.fit(pred_train,tar_train)\n",
    "\n",
    "pred = classifier.predict(pred_test)"
   ]
  },
  {
   "cell_type": "code",
   "execution_count": 16,
   "id": "3d59ee0d",
   "metadata": {},
   "outputs": [
    {
     "name": "stdout",
     "output_type": "stream",
     "text": [
      "[[557  25  31]\n",
      " [ 17  25  15]\n",
      " [ 26  14  40]]\n",
      "accuracy of training dataset is1.00\n",
      "accuracy of test dataset is 0.83\n",
      "Error rate is 0.17066666666666663\n",
      "sensitivity is 0.8293333333333334\n",
      "specificity is 0.17066666666666663\n"
     ]
    }
   ],
   "source": [
    "print(sklearn.metrics.confusion_matrix(tar_test, pred))\n",
    "\n",
    "#classification accuracy\n",
    "print(\"accuracy of training dataset is{:.2f}\".format(classifier.score(pred_train,tar_train)))\n",
    "print(\"accuracy of test dataset is {:.2f}\".format(classifier.score(pred_test,tar_test)))\n",
    "#print(accuracy_score(tar_test, predictions, normalize = True))\n",
    "\n",
    "#error rate\n",
    "print(\"Error rate is\",1- accuracy_score(tar_test, pred, normalize = True))\n",
    "\n",
    "#sensitivity\n",
    "print(\"sensitivity is\", sklearn.metrics.recall_score(tar_test, pred,labels=None, average =  'micro', sample_weight=None))\n",
    "#specificity\n",
    "print(\"specificity is\", 1 - sklearn.metrics.recall_score(tar_test, pred,labels=None, average =  'micro', sample_weight=None))\n",
    "\n",
    "#precision\n",
    "#print(\"precision is\",sklearn.metrics.precision_score(tar_test, predictions, labels=None, pos_label=1, average =  'micro' ,sample_weight=None))\n",
    "\n",
    "#Recall\n",
    "\n",
    "\n",
    "#time to execute\n",
    "#print(\"time elapsed: {:.2f}s\".format(time.time() - start_time))\n",
    "results =[]\n",
    "results.append(accuracy_score(tar_test, pred, normalize = True))\n",
    "classification = 1 - accuracy_score(tar_test, pred, normalize = True)\n",
    "results.append(classification)\n",
    "sensi = sklearn.metrics.recall_score(tar_test, pred, labels=None, average =  'micro', sample_weight=None)\n",
    "results.append(sensi)\n",
    "\n",
    "specificity = 1 - sensi\n",
    "results.append(specificity)\n",
    "\n",
    "list2 = [\"accuracy\" , \"classifiacation\" , \"sensi\" , \"speci\"]"
   ]
  },
  {
   "cell_type": "code",
   "execution_count": 9,
   "id": "6e586f6b",
   "metadata": {},
   "outputs": [
    {
     "data": {
      "text/plain": [
       "<BarContainer object of 4 artists>"
      ]
     },
     "execution_count": 9,
     "metadata": {},
     "output_type": "execute_result"
    },
    {
     "data": {
      "image/png": "[encoded data removed]",
      "text/plain": [
       "<Figure size 1440x720 with 1 Axes>"
      ]
     },
     "metadata": {
      "needs_background": "light"
     },
     "output_type": "display_data"
    }
   ],
   "source": [
    "import matplotlib.pyplot as plt\n",
    "\n",
    "\n",
    "fig = plt.figure(figsize = (20, 10))\n",
    "plt.bar(list2 , results )"
   ]
  },
  {
   "cell_type": "code",
   "execution_count": null,
   "id": "83bd96df",
   "metadata": {},
   "outputs": [],
   "source": []
  }
 ],
 "metadata": {
  "kernelspec": {
   "display_name": "Python 3 (ipykernel)",
   "language": "python",
   "name": "python3"
  },
  "language_info": {
   "codemirror_mode": {
    "name": "ipython",
    "version": 3
   },
   "file_extension": ".py",
   "mimetype": "text/x-python",
   "name": "python",
   "nbconvert_exporter": "python",
   "pygments_lexer": "ipython3",
   "version": "3.10.3"
  }
 },
 "nbformat": 4,
 "nbformat_minor": 5
}
